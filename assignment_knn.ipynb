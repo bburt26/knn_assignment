{
  "cells": [
    {
      "cell_type": "markdown",
      "id": "f7ef20f0-722f-4240-8a79-437d4a3b8832",
      "metadata": {
        "id": "f7ef20f0-722f-4240-8a79-437d4a3b8832"
      },
      "source": [
        "## Assignment 3: $k$ Nearest Neighbor\n",
        "\n",
        "`! git clone https://github.com/ds3001f25/knn_assignment.git`\n",
        "\n",
        "**Do two questions in total: \"Q1+Q2\" or \"Q1+Q3\"**\n"
      ]
    },
    {
      "cell_type": "markdown",
      "id": "5d9212c0",
      "metadata": {
        "id": "5d9212c0"
      },
      "source": [
        "**Q1.**\n",
        "1. What is the difference between regression and classification?\n",
        "2. What is a confusion table? What does it help us understand about a model's performance?\n",
        "3. What does the SSE quantify about a particular model?\n",
        "4. What are overfitting and underfitting?\n",
        "5. Why does splitting the data into training and testing sets, and choosing $k$ by evaluating accuracy or SSE on the test set, improve model performance?\n",
        "6. With classification, we can report a class label as a prediction or a probability distribution over class labels. Please explain the strengths and weaknesses of each approach."
      ]
    },
    {
      "cell_type": "code",
      "execution_count": null,
      "id": "2f63554b",
      "metadata": {
        "id": "2f63554b"
      },
      "outputs": [],
      "source": [
        "# Question 1.1 What is the difference between regression and classification?\n",
        "\n",
        "# These are both types of predictors. The difference is in what exactly they predict.\n",
        "# Regression is when we use algorithms and models to predict numeric outcomes.\n",
        "# Classification is when we use the same methods to predict categorical outcomes."
      ]
    },
    {
      "cell_type": "code",
      "source": [
        "# Question 1.2 What is a confusion table? What does it help us understand about\n",
        "# a model's performance?\n",
        "\n",
        "# A confusion table is a way to test the fit of a predictive model on the actual\n",
        "# data set for categorical data sets. It's a cross-tabulation of preducted values\n",
        "# with actual values and it helps us understand how well a predictive model \"fits\"\n",
        "# the actual data we give it. It looks for patterns in the predicted result and\n",
        "# actual results, allowing us to record and analyze trends. \"Accuracy\" is how we\n",
        "# quantify how \"correct\" the predictive model is."
      ],
      "metadata": {
        "id": "E-yLJRFutfi1"
      },
      "id": "E-yLJRFutfi1",
      "execution_count": null,
      "outputs": []
    },
    {
      "cell_type": "code",
      "source": [
        "# Question 1.3 What does the SSE quantify about a particular model?\n",
        "\n",
        "# The SSE (sum of squared errors) quantifies a model's accuracy. In other words,\n",
        "# it quantifies how closely a model's predicted values fall from the true values\n",
        "# it's being used to predict."
      ],
      "metadata": {
        "id": "bL_rpvf-tfzO"
      },
      "id": "bL_rpvf-tfzO",
      "execution_count": null,
      "outputs": []
    },
    {
      "cell_type": "code",
      "source": [
        "# Question 1.4 What are overfitting and underfitting?\n",
        "\n",
        "# Essentially, overfitting and underfitting are ways to look at a models sensitivity\n",
        "# to noise and generalization -- whether they're overly exacting or overly simplistic.\n",
        "# \"Overfitting\" is when a model examines a test data set and adapts to it's data\n",
        "# points and characteristics to well, meaning that it has low error with the training\n",
        "# data set but high error with a real data set. \"Underfitting\" is when your model is too\n",
        "# simple and general and pays too little attention to the characteristic and traits of the\n",
        "# training data (meaning it has high error for the training AND real data sets it\n",
        "# processes). If K is very small, it will lead to overfitting. It is very large, underfitting."
      ],
      "metadata": {
        "id": "uLyPqsddtgAx"
      },
      "id": "uLyPqsddtgAx",
      "execution_count": null,
      "outputs": []
    },
    {
      "cell_type": "code",
      "source": [
        "# Question 1.5 Why does splitting the data into training and testing sets,\n",
        "# and choosing  𝑘  by evaluating accuracy or SSE on the test set, improve model performance?\n",
        "\n",
        "# This method improves model performance because it enables us to see how the model\n",
        "# adapts to the \"test set\" (a set the model hasn't seen) to ensure that overfitting\n",
        "# or underfitting hasn't occured. By choosing k by evaluating accuracy/SSE on the test set,\n",
        "# we can make sure that the K doesn't let to overfitting by being overly reliant on the\n",
        "# training data. This way, we strike a balance between accuracy and applicability.\n",
        "# The k is somewhere in the middle, meaning it will use the training data to yield a k\n",
        "# that we can then use to extract meaningful and trustworthy predictions when used\n",
        "# on later test sets. Were we to choose K by accuracy/SSE on the training set,\n",
        "# we would get a model that overfits and is too sensitive to the noise of the\n",
        "# training set (since the model's only reference is the training set)."
      ],
      "metadata": {
        "id": "E1NCLp-ltgRr"
      },
      "id": "E1NCLp-ltgRr",
      "execution_count": null,
      "outputs": []
    },
    {
      "cell_type": "code",
      "source": [
        "# Question 1.6 With classification, we can report a class label as a prediction\n",
        "# or a probability distribution over class labels. Please explain the strengths\n",
        "# and weaknesses of each approach.\n",
        "\n",
        "# Class labels as predictions -\n",
        "# The benefit to reporting class labels as predictions is that it enables us to examine\n",
        "# the relative likelihood of one class label to the others. In other words, we can\n",
        "# make a singular prediction that X class label is the most likely label to occur.\n",
        "# The downside is that this doesn't give us a comprehensive overview each class label's\n",
        "# relative likelihood. For instance, X may be the MOST likely class, but perhaps Y\n",
        "# and Z are also both pretty likely to happen, making a class label as prediction\n",
        "# approach somewhat limiting in understanding the liklihood of all the possible outcomes.\n",
        "\n",
        "\n",
        "# Probability distribution over class labels -\n",
        "# Similarly, a probibility distribution over class labels approach gives us a broader view\n",
        "# into all the different class labels' relative liklihood. However, this method lacks\n",
        "# the specialized insight into a singular class label's liklihood, as well as being\n",
        "# overly-sensitive to skewed data. Let's say that there were 10 concentrated entries for X\n",
        "# and Y was an outlier. This method might give Y unfairly increased representation.\n",
        "\n"
      ],
      "metadata": {
        "id": "XEGAb1t_tggP"
      },
      "id": "XEGAb1t_tggP",
      "execution_count": null,
      "outputs": []
    },
    {
      "cell_type": "markdown",
      "id": "194455fa",
      "metadata": {
        "id": "194455fa"
      },
      "source": [
        "**Q2.** This question is a case study for $k$ nearest neighbor regression, using the `USA_cars_datasets.csv` data.\n",
        "\n",
        "The target variable `y` is `price` and the features are `year` and `mileage`.\n",
        "\n",
        "1. Load the `./data/USA_cars_datasets.csv`. Keep the following variables and drop the rest: `price`, `year`, `mileage`. Are there any `NA`'s to handle? Look at the head and dimensions of the data.\n",
        "2. Maxmin normalize `year` and `mileage`.\n",
        "3. Split the sample into ~80% for training and ~20% for evaluation.\n",
        "4. Use the $k$NN algorithm and the training data to predict `price` using `year` and `mileage` for the test set for $k=3,10,25,50,100,300$. For each value of $k$, compute the mean squared error and print a scatterplot showing the test value plotted against the predicted value. What patterns do you notice as you increase $k$?\n",
        "5. Determine the optimal $k$ for these data.\n",
        "6. Describe what happened in the plots of predicted versus actual prices as $k$ varied, taking your answer into part 6 into account. (Hint: Use the words \"underfitting\" and \"overfitting\".)"
      ]
    },
    {
      "cell_type": "code",
      "execution_count": 9,
      "id": "739292a2",
      "metadata": {
        "id": "739292a2",
        "colab": {
          "base_uri": "https://localhost:8080/",
          "height": 452
        },
        "outputId": "9367a351-1dd1-425d-cc6c-048d28808b4c"
      },
      "outputs": [
        {
          "output_type": "stream",
          "name": "stdout",
          "text": [
            "Missing values per column:\n",
            " price      0\n",
            "year       0\n",
            "mileage    0\n",
            "dtype: int64\n"
          ]
        },
        {
          "output_type": "execute_result",
          "data": {
            "text/plain": [
              "   price  year  mileage\n",
              "0   6300  2008   274117\n",
              "1   2899  2011   190552\n",
              "2   5350  2018    39590\n",
              "3  25000  2014    64146\n",
              "4  27700  2018     6654\n",
              "5   5700  2018    45561\n",
              "6   7300  2010   149050\n",
              "7  13350  2017    23525\n",
              "8  14600  2018     9371\n",
              "9   5250  2017    63418"
            ],
            "text/html": [
              "\n",
              "  <div id=\"df-da2f81a1-ce19-4e45-8798-4b6178c1b90d\" class=\"colab-df-container\">\n",
              "    <div>\n",
              "<style scoped>\n",
              "    .dataframe tbody tr th:only-of-type {\n",
              "        vertical-align: middle;\n",
              "    }\n",
              "\n",
              "    .dataframe tbody tr th {\n",
              "        vertical-align: top;\n",
              "    }\n",
              "\n",
              "    .dataframe thead th {\n",
              "        text-align: right;\n",
              "    }\n",
              "</style>\n",
              "<table border=\"1\" class=\"dataframe\">\n",
              "  <thead>\n",
              "    <tr style=\"text-align: right;\">\n",
              "      <th></th>\n",
              "      <th>price</th>\n",
              "      <th>year</th>\n",
              "      <th>mileage</th>\n",
              "    </tr>\n",
              "  </thead>\n",
              "  <tbody>\n",
              "    <tr>\n",
              "      <th>0</th>\n",
              "      <td>6300</td>\n",
              "      <td>2008</td>\n",
              "      <td>274117</td>\n",
              "    </tr>\n",
              "    <tr>\n",
              "      <th>1</th>\n",
              "      <td>2899</td>\n",
              "      <td>2011</td>\n",
              "      <td>190552</td>\n",
              "    </tr>\n",
              "    <tr>\n",
              "      <th>2</th>\n",
              "      <td>5350</td>\n",
              "      <td>2018</td>\n",
              "      <td>39590</td>\n",
              "    </tr>\n",
              "    <tr>\n",
              "      <th>3</th>\n",
              "      <td>25000</td>\n",
              "      <td>2014</td>\n",
              "      <td>64146</td>\n",
              "    </tr>\n",
              "    <tr>\n",
              "      <th>4</th>\n",
              "      <td>27700</td>\n",
              "      <td>2018</td>\n",
              "      <td>6654</td>\n",
              "    </tr>\n",
              "    <tr>\n",
              "      <th>5</th>\n",
              "      <td>5700</td>\n",
              "      <td>2018</td>\n",
              "      <td>45561</td>\n",
              "    </tr>\n",
              "    <tr>\n",
              "      <th>6</th>\n",
              "      <td>7300</td>\n",
              "      <td>2010</td>\n",
              "      <td>149050</td>\n",
              "    </tr>\n",
              "    <tr>\n",
              "      <th>7</th>\n",
              "      <td>13350</td>\n",
              "      <td>2017</td>\n",
              "      <td>23525</td>\n",
              "    </tr>\n",
              "    <tr>\n",
              "      <th>8</th>\n",
              "      <td>14600</td>\n",
              "      <td>2018</td>\n",
              "      <td>9371</td>\n",
              "    </tr>\n",
              "    <tr>\n",
              "      <th>9</th>\n",
              "      <td>5250</td>\n",
              "      <td>2017</td>\n",
              "      <td>63418</td>\n",
              "    </tr>\n",
              "  </tbody>\n",
              "</table>\n",
              "</div>\n",
              "    <div class=\"colab-df-buttons\">\n",
              "\n",
              "  <div class=\"colab-df-container\">\n",
              "    <button class=\"colab-df-convert\" onclick=\"convertToInteractive('df-da2f81a1-ce19-4e45-8798-4b6178c1b90d')\"\n",
              "            title=\"Convert this dataframe to an interactive table.\"\n",
              "            style=\"display:none;\">\n",
              "\n",
              "  <svg xmlns=\"http://www.w3.org/2000/svg\" height=\"24px\" viewBox=\"0 -960 960 960\">\n",
              "    <path d=\"M120-120v-720h720v720H120Zm60-500h600v-160H180v160Zm220 220h160v-160H400v160Zm0 220h160v-160H400v160ZM180-400h160v-160H180v160Zm440 0h160v-160H620v160ZM180-180h160v-160H180v160Zm440 0h160v-160H620v160Z\"/>\n",
              "  </svg>\n",
              "    </button>\n",
              "\n",
              "  <style>\n",
              "    .colab-df-container {\n",
              "      display:flex;\n",
              "      gap: 12px;\n",
              "    }\n",
              "\n",
              "    .colab-df-convert {\n",
              "      background-color: #E8F0FE;\n",
              "      border: none;\n",
              "      border-radius: 50%;\n",
              "      cursor: pointer;\n",
              "      display: none;\n",
              "      fill: #1967D2;\n",
              "      height: 32px;\n",
              "      padding: 0 0 0 0;\n",
              "      width: 32px;\n",
              "    }\n",
              "\n",
              "    .colab-df-convert:hover {\n",
              "      background-color: #E2EBFA;\n",
              "      box-shadow: 0px 1px 2px rgba(60, 64, 67, 0.3), 0px 1px 3px 1px rgba(60, 64, 67, 0.15);\n",
              "      fill: #174EA6;\n",
              "    }\n",
              "\n",
              "    .colab-df-buttons div {\n",
              "      margin-bottom: 4px;\n",
              "    }\n",
              "\n",
              "    [theme=dark] .colab-df-convert {\n",
              "      background-color: #3B4455;\n",
              "      fill: #D2E3FC;\n",
              "    }\n",
              "\n",
              "    [theme=dark] .colab-df-convert:hover {\n",
              "      background-color: #434B5C;\n",
              "      box-shadow: 0px 1px 3px 1px rgba(0, 0, 0, 0.15);\n",
              "      filter: drop-shadow(0px 1px 2px rgba(0, 0, 0, 0.3));\n",
              "      fill: #FFFFFF;\n",
              "    }\n",
              "  </style>\n",
              "\n",
              "    <script>\n",
              "      const buttonEl =\n",
              "        document.querySelector('#df-da2f81a1-ce19-4e45-8798-4b6178c1b90d button.colab-df-convert');\n",
              "      buttonEl.style.display =\n",
              "        google.colab.kernel.accessAllowed ? 'block' : 'none';\n",
              "\n",
              "      async function convertToInteractive(key) {\n",
              "        const element = document.querySelector('#df-da2f81a1-ce19-4e45-8798-4b6178c1b90d');\n",
              "        const dataTable =\n",
              "          await google.colab.kernel.invokeFunction('convertToInteractive',\n",
              "                                                    [key], {});\n",
              "        if (!dataTable) return;\n",
              "\n",
              "        const docLinkHtml = 'Like what you see? Visit the ' +\n",
              "          '<a target=\"_blank\" href=https://colab.research.google.com/notebooks/data_table.ipynb>data table notebook</a>'\n",
              "          + ' to learn more about interactive tables.';\n",
              "        element.innerHTML = '';\n",
              "        dataTable['output_type'] = 'display_data';\n",
              "        await google.colab.output.renderOutput(dataTable, element);\n",
              "        const docLink = document.createElement('div');\n",
              "        docLink.innerHTML = docLinkHtml;\n",
              "        element.appendChild(docLink);\n",
              "      }\n",
              "    </script>\n",
              "  </div>\n",
              "\n",
              "\n",
              "    <div id=\"df-0d2ceff3-f9d4-427c-8e75-8ae6b2685802\">\n",
              "      <button class=\"colab-df-quickchart\" onclick=\"quickchart('df-0d2ceff3-f9d4-427c-8e75-8ae6b2685802')\"\n",
              "                title=\"Suggest charts\"\n",
              "                style=\"display:none;\">\n",
              "\n",
              "<svg xmlns=\"http://www.w3.org/2000/svg\" height=\"24px\"viewBox=\"0 0 24 24\"\n",
              "     width=\"24px\">\n",
              "    <g>\n",
              "        <path d=\"M19 3H5c-1.1 0-2 .9-2 2v14c0 1.1.9 2 2 2h14c1.1 0 2-.9 2-2V5c0-1.1-.9-2-2-2zM9 17H7v-7h2v7zm4 0h-2V7h2v10zm4 0h-2v-4h2v4z\"/>\n",
              "    </g>\n",
              "</svg>\n",
              "      </button>\n",
              "\n",
              "<style>\n",
              "  .colab-df-quickchart {\n",
              "      --bg-color: #E8F0FE;\n",
              "      --fill-color: #1967D2;\n",
              "      --hover-bg-color: #E2EBFA;\n",
              "      --hover-fill-color: #174EA6;\n",
              "      --disabled-fill-color: #AAA;\n",
              "      --disabled-bg-color: #DDD;\n",
              "  }\n",
              "\n",
              "  [theme=dark] .colab-df-quickchart {\n",
              "      --bg-color: #3B4455;\n",
              "      --fill-color: #D2E3FC;\n",
              "      --hover-bg-color: #434B5C;\n",
              "      --hover-fill-color: #FFFFFF;\n",
              "      --disabled-bg-color: #3B4455;\n",
              "      --disabled-fill-color: #666;\n",
              "  }\n",
              "\n",
              "  .colab-df-quickchart {\n",
              "    background-color: var(--bg-color);\n",
              "    border: none;\n",
              "    border-radius: 50%;\n",
              "    cursor: pointer;\n",
              "    display: none;\n",
              "    fill: var(--fill-color);\n",
              "    height: 32px;\n",
              "    padding: 0;\n",
              "    width: 32px;\n",
              "  }\n",
              "\n",
              "  .colab-df-quickchart:hover {\n",
              "    background-color: var(--hover-bg-color);\n",
              "    box-shadow: 0 1px 2px rgba(60, 64, 67, 0.3), 0 1px 3px 1px rgba(60, 64, 67, 0.15);\n",
              "    fill: var(--button-hover-fill-color);\n",
              "  }\n",
              "\n",
              "  .colab-df-quickchart-complete:disabled,\n",
              "  .colab-df-quickchart-complete:disabled:hover {\n",
              "    background-color: var(--disabled-bg-color);\n",
              "    fill: var(--disabled-fill-color);\n",
              "    box-shadow: none;\n",
              "  }\n",
              "\n",
              "  .colab-df-spinner {\n",
              "    border: 2px solid var(--fill-color);\n",
              "    border-color: transparent;\n",
              "    border-bottom-color: var(--fill-color);\n",
              "    animation:\n",
              "      spin 1s steps(1) infinite;\n",
              "  }\n",
              "\n",
              "  @keyframes spin {\n",
              "    0% {\n",
              "      border-color: transparent;\n",
              "      border-bottom-color: var(--fill-color);\n",
              "      border-left-color: var(--fill-color);\n",
              "    }\n",
              "    20% {\n",
              "      border-color: transparent;\n",
              "      border-left-color: var(--fill-color);\n",
              "      border-top-color: var(--fill-color);\n",
              "    }\n",
              "    30% {\n",
              "      border-color: transparent;\n",
              "      border-left-color: var(--fill-color);\n",
              "      border-top-color: var(--fill-color);\n",
              "      border-right-color: var(--fill-color);\n",
              "    }\n",
              "    40% {\n",
              "      border-color: transparent;\n",
              "      border-right-color: var(--fill-color);\n",
              "      border-top-color: var(--fill-color);\n",
              "    }\n",
              "    60% {\n",
              "      border-color: transparent;\n",
              "      border-right-color: var(--fill-color);\n",
              "    }\n",
              "    80% {\n",
              "      border-color: transparent;\n",
              "      border-right-color: var(--fill-color);\n",
              "      border-bottom-color: var(--fill-color);\n",
              "    }\n",
              "    90% {\n",
              "      border-color: transparent;\n",
              "      border-bottom-color: var(--fill-color);\n",
              "    }\n",
              "  }\n",
              "</style>\n",
              "\n",
              "      <script>\n",
              "        async function quickchart(key) {\n",
              "          const quickchartButtonEl =\n",
              "            document.querySelector('#' + key + ' button');\n",
              "          quickchartButtonEl.disabled = true;  // To prevent multiple clicks.\n",
              "          quickchartButtonEl.classList.add('colab-df-spinner');\n",
              "          try {\n",
              "            const charts = await google.colab.kernel.invokeFunction(\n",
              "                'suggestCharts', [key], {});\n",
              "          } catch (error) {\n",
              "            console.error('Error during call to suggestCharts:', error);\n",
              "          }\n",
              "          quickchartButtonEl.classList.remove('colab-df-spinner');\n",
              "          quickchartButtonEl.classList.add('colab-df-quickchart-complete');\n",
              "        }\n",
              "        (() => {\n",
              "          let quickchartButtonEl =\n",
              "            document.querySelector('#df-0d2ceff3-f9d4-427c-8e75-8ae6b2685802 button');\n",
              "          quickchartButtonEl.style.display =\n",
              "            google.colab.kernel.accessAllowed ? 'block' : 'none';\n",
              "        })();\n",
              "      </script>\n",
              "    </div>\n",
              "\n",
              "    </div>\n",
              "  </div>\n"
            ],
            "application/vnd.google.colaboratory.intrinsic+json": {
              "type": "dataframe",
              "variable_name": "cars_test",
              "summary": "{\n  \"name\": \"cars_test\",\n  \"rows\": 2499,\n  \"fields\": [\n    {\n      \"column\": \"price\",\n      \"properties\": {\n        \"dtype\": \"number\",\n        \"std\": 12116,\n        \"min\": 0,\n        \"max\": 84900,\n        \"num_unique_values\": 790,\n        \"samples\": [\n          12995,\n          16200,\n          9280\n        ],\n        \"semantic_type\": \"\",\n        \"description\": \"\"\n      }\n    },\n    {\n      \"column\": \"year\",\n      \"properties\": {\n        \"dtype\": \"number\",\n        \"std\": 3,\n        \"min\": 1973,\n        \"max\": 2020,\n        \"num_unique_values\": 30,\n        \"samples\": [\n          1984,\n          2000,\n          1994\n        ],\n        \"semantic_type\": \"\",\n        \"description\": \"\"\n      }\n    },\n    {\n      \"column\": \"mileage\",\n      \"properties\": {\n        \"dtype\": \"number\",\n        \"std\": 59705,\n        \"min\": 0,\n        \"max\": 1017936,\n        \"num_unique_values\": 2439,\n        \"samples\": [\n          20103,\n          31233,\n          9660\n        ],\n        \"semantic_type\": \"\",\n        \"description\": \"\"\n      }\n    }\n  ]\n}"
            }
          },
          "metadata": {},
          "execution_count": 9
        }
      ],
      "source": [
        "# Question 2.1\n",
        "\n",
        "import numpy as np\n",
        "import pandas as pd\n",
        "from sklearn.neighbors import KNeighborsRegressor\n",
        "\n",
        "cars = pd.read_csv(\"USA_cars_datasets.csv\")\n",
        "\n",
        "cars_test = cars[[\"price\", \"year\", \"mileage\"]]\n",
        "\n",
        "print(\"Missing values per column:\\n\", cars_test.isna().sum())\n",
        "# Shows no missing values (NA's) for our variables of interest (price, year, mileage)\n",
        "\n",
        "cars_test.head(10)"
      ]
    },
    {
      "cell_type": "code",
      "source": [
        "# Question 2.2\n",
        "\n",
        "cars_test[\"year_norm\"] = (cars_test[\"year\"] - cars_test[\"year\"].min()) / (cars_test[\"year\"].max() - cars_test[\"year\"].min())\n",
        "cars_test[\"mileage_norm\"] = (cars_test[\"mileage\"] - cars_test[\"mileage\"].min()) / (cars_test[\"mileage\"].max() - cars_test[\"mileage\"].min())\n",
        "\n",
        "print(cars_test[[\"year\", \"year_norm\", \"mileage\", \"mileage_norm\"]].head())\n"
      ],
      "metadata": {
        "id": "ydx0rxXyt1Ol",
        "colab": {
          "base_uri": "https://localhost:8080/"
        },
        "outputId": "5badee85-d670-46cd-83fa-ed1752a079ee"
      },
      "id": "ydx0rxXyt1Ol",
      "execution_count": 14,
      "outputs": [
        {
          "output_type": "stream",
          "name": "stdout",
          "text": [
            "   year  year_norm  mileage  mileage_norm\n",
            "0  2008   0.744681   274117      0.269287\n",
            "1  2011   0.808511   190552      0.187194\n",
            "2  2018   0.957447    39590      0.038892\n",
            "3  2014   0.872340    64146      0.063016\n",
            "4  2018   0.957447     6654      0.006537\n"
          ]
        },
        {
          "output_type": "stream",
          "name": "stderr",
          "text": [
            "/tmp/ipython-input-1865604891.py:3: SettingWithCopyWarning: \n",
            "A value is trying to be set on a copy of a slice from a DataFrame.\n",
            "Try using .loc[row_indexer,col_indexer] = value instead\n",
            "\n",
            "See the caveats in the documentation: https://pandas.pydata.org/pandas-docs/stable/user_guide/indexing.html#returning-a-view-versus-a-copy\n",
            "  cars_test[\"year_norm\"] = (cars_test[\"year\"] - cars_test[\"year\"].min()) / (cars_test[\"year\"].max() - cars_test[\"year\"].min())\n",
            "/tmp/ipython-input-1865604891.py:4: SettingWithCopyWarning: \n",
            "A value is trying to be set on a copy of a slice from a DataFrame.\n",
            "Try using .loc[row_indexer,col_indexer] = value instead\n",
            "\n",
            "See the caveats in the documentation: https://pandas.pydata.org/pandas-docs/stable/user_guide/indexing.html#returning-a-view-versus-a-copy\n",
            "  cars_test[\"mileage_norm\"] = (cars_test[\"mileage\"] - cars_test[\"mileage\"].min()) / (cars_test[\"mileage\"].max() - cars_test[\"mileage\"].min())\n"
          ]
        }
      ]
    },
    {
      "cell_type": "code",
      "source": [
        "# Question 2.3\n",
        "from sklearn.model_selection import train_test_split\n",
        "\n",
        "train_set, test_set = train_test_split(cars_test, test_size=0.2, random_state=42)\n",
        "\n",
        "print(\"Training set shape:\", train_set.shape)\n",
        "print(\"Test set shape:\", test_set.shape)"
      ],
      "metadata": {
        "id": "5zDHOCzRt1oW",
        "colab": {
          "base_uri": "https://localhost:8080/"
        },
        "outputId": "edecac40-7ed9-41a1-9f7c-96fa12d9fcaa"
      },
      "id": "5zDHOCzRt1oW",
      "execution_count": 15,
      "outputs": [
        {
          "output_type": "stream",
          "name": "stdout",
          "text": [
            "Training set shape: (1999, 5)\n",
            "Test set shape: (500, 5)\n"
          ]
        }
      ]
    },
    {
      "cell_type": "code",
      "source": [
        "# Question 2.4"
      ],
      "metadata": {
        "id": "Ob9NRev3t3na"
      },
      "id": "Ob9NRev3t3na",
      "execution_count": null,
      "outputs": []
    },
    {
      "cell_type": "code",
      "source": [
        "# Question 2.5"
      ],
      "metadata": {
        "id": "pzvVhSlPt2Nl"
      },
      "id": "pzvVhSlPt2Nl",
      "execution_count": null,
      "outputs": []
    },
    {
      "cell_type": "code",
      "source": [
        "# Question 2.6"
      ],
      "metadata": {
        "id": "Gi9DGSgSt2Wt"
      },
      "id": "Gi9DGSgSt2Wt",
      "execution_count": null,
      "outputs": []
    },
    {
      "cell_type": "markdown",
      "id": "8d193de6",
      "metadata": {
        "vscode": {
          "languageId": "plaintext"
        },
        "id": "8d193de6"
      },
      "source": [
        "**Q3.** This is a case study on $k$ nearest neighbor regression and imputation, using the `airbnb_hw.csv` data.\n",
        "\n",
        "There are 30,478 observations, but only 22,155 ratings. We're going to build a kNN regressor to impute missing values. This is a common task, and illustrates one way you can use kNN in the future even when you have more advanced models available.\n",
        "\n",
        "1. Load the `airbnb_hw.csv` data with Pandas. We're only going to use `Review Scores Rating`, `Price`, and `Beds`, so use `.loc` to reduce the dataframe to those variables.\n",
        "2. Set use `.isnull()` to select the subset of the dataframe with missing review values. Set those aside in a different dataframe. We'll make predictions about them later.\n",
        "3. Use `df = df.dropna(axis = 0, how = 'any')` to eliminate any observations with missing values/NA's from the dataframe.\n",
        "4. For the complete cases, create a $k$-NN model that uses the variables `Price` and `Beds` to predict `Review Scores Rating`. How do you choose $k$? (Hint: Train/test split, iterate over reasonable values of $k$ and find a value that minimizes SSE on the test split using predictions from the training set.)\n",
        "5. Predict the missing ratings.\n",
        "6. Do a kernel density plot of the training ratings and the predicted missing ratings. Do they look similar or not? Explain why."
      ]
    },
    {
      "cell_type": "code",
      "execution_count": null,
      "id": "b362aa0d",
      "metadata": {
        "id": "b362aa0d"
      },
      "outputs": [],
      "source": [
        "## ----- DON'T DO ------ ##"
      ]
    }
  ],
  "metadata": {
    "kernelspec": {
      "display_name": "Python 3 (ipykernel)",
      "language": "python",
      "name": "python3"
    },
    "language_info": {
      "codemirror_mode": {
        "name": "ipython",
        "version": 3
      },
      "file_extension": ".py",
      "mimetype": "text/x-python",
      "name": "python",
      "nbconvert_exporter": "python",
      "pygments_lexer": "ipython3",
      "version": "3.10.18"
    },
    "colab": {
      "provenance": []
    }
  },
  "nbformat": 4,
  "nbformat_minor": 5
}